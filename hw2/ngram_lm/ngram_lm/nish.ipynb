{
 "cells": [
  {
   "cell_type": "markdown",
   "metadata": {},
   "source": [
    "Homework 2: n-gram LM\n",
    "----\n",
    "\n",
    "Due date: 25 Feb 2024\n",
    "\n",
    "Points: 105\n",
    "\n",
    "Goals:\n",
    "- understand the difficulties of counting and probablities in NLP applications\n",
    "- work with real world data to build a functioning language model\n",
    "- stress test your model (to some extent)\n",
    "\n",
    "Complete in groups of: __one (individually)__\n",
    "\n",
    "Allowed python modules:\n",
    "- `numpy`, `matplotlib`, and all built-in python libraries (e.g. `math` and `string`)\n",
    "- do not use `nltk` or `pandas`\n",
    "\n",
    "Instructions:\n",
    "- Complete outlined problems in this notebook. \n",
    "- When you have finished, __clear the kernel__ and __run__ your notebook \"fresh\" from top to bottom. Ensure that there are __no errors__. \n",
    "    - If a problem asks for you to write code that does result in an error (as in, the answer to the problem is an error), leave the code in your notebook but commented out so that running from top to bottom does not result in any errors.\n",
    "- Double check that you have completed Task 0.\n",
    "- Submit your work on Gradescope.\n",
    "- Double check that your submission on Gradescope looks like you believe it should."
   ]
  },
  {
   "cell_type": "markdown",
   "metadata": {},
   "source": [
    "Task 0: Name, References, Reflection (5 points)\n",
    "---\n",
    "\n",
    "Name: Nisharg Gosai\n",
    "\n",
    "References\n",
    "---\n",
    "List the resources you consulted to complete this homework here. Write one sentence per resource about what it provided to you. If you consulted no references to complete your assignment, write a brief sentence stating that this is the case and why it was the case for you.\n",
    "\n",
    "(Example)\n",
    "- https://docs.python.org/3/tutorial/datastructures.html\n",
    "    - Read about the the basics and syntax for data structures in python.\n",
    "- https://www.youtube.com/watch?v=GiyMGBuu45w\n",
    "    - Understanding n gram models\n",
    "- https://www.w3schools.com/python/python_file_handling.asp\n",
    "    - File handling in python for reference\n",
    "\n",
    "AI Collaboration\n",
    "---\n",
    "Following the *Policy on the use of Generative AI* in the syllabus, please cite any LLMs that you used here and briefly describe what you used them for. Additionally, provide comments in-line identifying the specific sections that you used LLMs on, if you used them towards the generation of any of your answers.\n",
    "\n",
    "OpenAI. (2023). ChatGPT 3.5 [Large language model]. https://chat.openai.com/chat\n",
    "- used as a quick reference handbook for things like python documentation and mathematical formulas\n",
    "\n",
    "Reflection\n",
    "----\n",
    "Answer the following questions __after__ you complete this assignment (no more than 1 sentence per question required, this section is graded on completion):\n",
    "\n",
    "1. Does this work reflect your best effort?\n",
    "   Yes\n",
    "2. What was/were the most challenging part(s) of the assignment?\n",
    "   Debugging and conversions \n",
    "3. If you want feedback, what function(s) or problem(s) would you like feedback on and why?\n",
    "   My training data from 1st hw part"
   ]
  },
  {
   "cell_type": "markdown",
   "metadata": {},
   "source": [
    "Task 1: Berp Data Write-Up (5 points)\n",
    "---\n",
    "\n",
    "Every time you use a data set in an NLP application (or in any software application), you should be able to answer a set of questions about that data. Answer these now. Default to no more than 1 sentence per question needed. If more explanation is necessary, do give it."
   ]
  },
  {
   "cell_type": "markdown",
   "metadata": {},
   "source": [
    "This is about the __berp__ data set.\n",
    "\n",
    "1. Where did you get the data from? https://www1.icsi.berkeley.edu/Speech/berp.html \n",
    "    - the dataset can be found at https://github.com/wooters/berp-trans \n",
    "2. How was the data collected (where did the people acquiring the data get it from and how)? \n",
    "    - speech was recorded from test subjects at icsi. The audio data was recorded with a Sennheiser close-talking microphone and was sampled at 16 kHz.\n",
    "3. How large is the dataset? (# lines, # tokens)\n",
    "    - 8566 utterances, with about 1900 unique words\n",
    "4. What is your data? (i.e. newswire, tweets, books, blogs, etc)\n",
    "    - speech recorded from test subjects, about 7 hours of speech\n",
    "5. Who produced the data? (who were the authors of the text? Your answer might be a specific person or a particular group of people)\n",
    "    - Daniel Jurafsky, Chuck Wooters, Gary Tajchman, Jonathan Segal, Andreas Stolcke, Eric Fosler, and Nelson Morgan"
   ]
  },
  {
   "cell_type": "markdown",
   "metadata": {},
   "source": [
    "Task 2: Implement an n-gram Language Model (90 points)\n",
    "----\n",
    "\n",
    "Implement the `LanguageModel` class as outlined in the provided `lm_model.py` file. Do not change function signatures (the unit tests that we provide and in the autograder will break).\n",
    "\n",
    "Your language model:\n",
    "- *must* work for the unigram, bigram, and trigram cases (5 points are allocated to an experiment involving larger values of `n`)\n",
    "    - hint: try to implement the bigram case as a generalized \"n greater than 1\" case\n",
    "- should be *token agnostic* (this means that if we give the model text tokenized as single characters, it will function as a character language model and if we give the model text tokenized as \"words\" (or \"traditionally\"), then it will function as a language model with those tokens)\n",
    "- will use Laplace smoothing\n",
    "- will replace all tokens that occur only once with `<UNK>` at train time\n",
    "    - do not add `<UNK>` to your vocabulary if no tokens in the training data occur only once!\n",
    "\n",
    "We have provided:\n",
    "- a function to read in files\n",
    "- some functions to change a list of strings into tokens\n",
    "- the skeleton of the `LanguageModel` class\n",
    "\n",
    "You need to implement:\n",
    "- all functions marked\n",
    "\n",
    "You may implement:\n",
    "- additional functions/methods as helpful to you\n",
    "\n",
    "As a general guideline for reference, including comments, all code required, and some debugging code that can be run with `verbose` parameters, our solution is ~ 300 lines. (~ 120 lines added to the starter code).\n",
    "\n",
    "Points breakdown marked in code below."
   ]
  },
  {
   "cell_type": "code",
   "execution_count": 1,
   "metadata": {},
   "outputs": [],
   "source": [
    "import lm_model as lm\n",
    "import numpy as np\n",
    "import matplotlib.pyplot as plt\n",
    "import statistics"
   ]
  },
  {
   "cell_type": "code",
   "execution_count": 2,
   "metadata": {},
   "outputs": [
    {
     "name": "stdout",
     "output_type": "stream",
     "text": [
      "[['<s>', 'i', 'am', '</s>'], ['<s>', 'sam', '</s>']]\n",
      "[['<s>', 'i', 'am', 'ham', 'i', 'am', 'ham', 'i', 'am', '</s>'], ['<s>', 'ham', 'i', 'am', '</s>']]\n"
     ]
    }
   ],
   "source": [
    "# test the language model (unit tests)\n",
    "import test_minitrainingprovided as test\n",
    "\n",
    "# passing all these tests is a good indication that your model\n",
    "# is correct. They are *not a guarantee*, so make sure to look\n",
    "# at the tests and the cases that they cover. (we'll be testing\n",
    "# your model against all of the testing data in addition).\n",
    "\n",
    "# autograder points in gradescope are assigned SIXTY points\n",
    "# this is essentially 60 points for correctly implementing your\n",
    "# underlying model\n",
    "# there are an additional 10 points manually graded for the correctness\n",
    "# parts of your sentence generation\n",
    "\n",
    "# make sure all training files are in a \"training_files\" directory \n",
    "# that is in the same directory as this notebook\n",
    "\n",
    "unittest = test.TestMiniTraining()\n",
    "unittest.test_createunigrammodellaplace()\n",
    "unittest.test_createbigrammodellaplace()\n",
    "unittest.test_unigramlaplace()\n",
    "unittest.test_unigramunknownslaplace()\n",
    "unittest.test_bigramlaplace()\n",
    "unittest.test_bigramunknownslaplace()\n",
    "# produces output\n",
    "unittest.test_generateunigramconcludes()\n",
    "# produces output\n",
    "unittest.test_generatebigramconcludes()\n",
    "\n",
    "unittest.test_onlyunknownsgenerationandscoring()"
   ]
  },
  {
   "cell_type": "code",
   "execution_count": 3,
   "metadata": {},
   "outputs": [
    {
     "name": "stdout",
     "output_type": "stream",
     "text": [
      "Generated Sentences:\n",
      "1. <s> i want to be at most a reservation for lunch in having more information about sushi </s>\n",
      "2. <s> <UNK> </s>\n",
      "3. <s> do you have a restaurant </s>\n",
      "4. <s> uh which restaurant with a list all </s>\n",
      "5. <s> i would like to eat on wednesday i don't want to know of this friday night or fifteen minutes' driving distance to spend </s>\n",
      "6. <s> i will be vegetarian restaurants within two hundred meters meters meters </s>\n",
      "7. <s> sunday </s>\n",
      "8. <s> i could be no more </s>\n",
      "9. <s> start again please </s>\n",
      "10. <s> i would like german food is okay i want to travel for a car so my name of the distance from icksee please </s>\n"
     ]
    }
   ],
   "source": [
    "# 5 points\n",
    "\n",
    "# instantiate a bigram language model, train it, and generate ten sentences\n",
    "\n",
    "# make sure your output is nicely formatted!\n",
    "\n",
    "ngram = 2\n",
    "training_file_path = \"training_files/berp-training.txt\"\n",
    "\n",
    "# optional parameter tells the tokenize function how to tokenize\n",
    "by_char = False\n",
    "data = lm.read_file(training_file_path)\n",
    "tokens = lm.tokenize(data, ngram, by_char=False)\n",
    "\n",
    "# # YOUR CODE HERE\n",
    "bigram_model = lm.LanguageModel(ngram)\n",
    "\n",
    "# Train the language model\n",
    "bigram_model.train(tokens)\n",
    "\n",
    "# Generate ten sentences\n",
    "num_sentences = 10\n",
    "generated_sentences = bigram_model.generate(num_sentences)\n",
    "\n",
    "print(\"Generated Sentences:\")\n",
    "for i, sentence in enumerate(generated_sentences, 1):\n",
    "    print(f\"{i}. {' '.join(sentence)}\")\n"
   ]
  },
  {
   "cell_type": "code",
   "execution_count": 4,
   "metadata": {},
   "outputs": [
    {
     "name": "stdout",
     "output_type": "stream",
     "text": [
      "Average =  4.962082362726267e-05\n",
      "Standard Deviation =  0.000286735365135695\n"
     ]
    }
   ],
   "source": [
    "# 5 points\n",
    "\n",
    "# evaluate your bigram model on the test data\n",
    "# score each line in the test data individually, then calculate the average score\n",
    "# you need not re-train your model\n",
    "test_path = \"testing_files/berp-test.txt\"\n",
    "test_data = lm.read_file(test_path)\n",
    "\n",
    "scores = []\n",
    "\n",
    "# YOUR CODE HERE\n",
    "scores = [bigram_model.score(lm.tokenize_line(sentence, ngram, by_char)) for sentence in test_data]\n",
    "\n",
    "# Print out the mean score and standard deviation\n",
    "# for words-as-tokens, these values should be\n",
    "# ~4.9 * 10^-5 and 0.000285\n",
    "print(\"Average = \", sum(scores)/len(scores))\n",
    "print(\"Standard Deviation = \",statistics.stdev(scores))"
   ]
  },
  {
   "cell_type": "code",
   "execution_count": 5,
   "metadata": {
    "scrolled": true
   },
   "outputs": [
    {
     "name": "stdout",
     "output_type": "stream",
     "text": [
      "\n",
      "Generated Sentences:\n",
      "1. <s> <s> <s> <s> <s> <s> quick, <UNK> death tops holiday wish list of local veal calf </s> </s> </s> </s> </s> </s>\n",
      "2. <s> <s> <s> <s> <s> <s> gop <UNK> fantasy is alive and well </s> </s> </s> </s> </s> </s>\n",
      "3. <s> <s> <s> <s> <s> <s> <UNK> davis makes powerful demand on behalf of women of color at women's march </s> </s> </s> </s> </s> </s>\n",
      "4. <s> <s> <s> <s> <s> <s> rock & roll hall of fame rescinds nomination after discovering the cure was voted in as cruel prank by popular kids </s> </s> </s> </s> </s> </s>\n",
      "5. <s> <s> <s> <s> <s> <s> donald trump calls kim jong un a 'smart cookie' </s> </s> </s> </s> </s> </s>\n",
      "0.5305656999989878\n"
     ]
    }
   ],
   "source": [
    "import timeit\n",
    "start_time = timeit.default_timer()\n",
    "# 5 points\n",
    "# see if you can train your model on the data you found for your first homework\n",
    "# what is the maximum value of n <= 10 that you can train a model *in your programming environment* in a reasonable amount of time? (less than 3 - 5 minutes)\n",
    "# generate three sentences with this model\n",
    "\n",
    "import json\n",
    "ngram = 7\n",
    "training_file_path = \"training_files/Sarcasm_Headlines_Dataset_v2.json\"\n",
    "num_sentences_to_generate = 5  \n",
    "\n",
    "# Read JSON data line by line\n",
    "json_data = []\n",
    "with open(training_file_path, 'r', encoding='utf-8') as file:\n",
    "    for line in file:\n",
    "        entry = json.loads(line)\n",
    "        json_data.append(entry)\n",
    "\n",
    "# Extract headlines from JSON data\n",
    "headlines = [entry['headline'] for entry in json_data]\n",
    "\n",
    "# Train the final language model\n",
    "final_model = lm.LanguageModel(ngram)\n",
    "final_model.train(lm.tokenize(headlines, ngram, by_char=False))  \n",
    "\n",
    "# Generate sentences with the final model\n",
    "generated_sentences = final_model.generate(num_sentences_to_generate)\n",
    "\n",
    "# Print generated sentences\n",
    "print(\"\\nGenerated Sentences:\")\n",
    "for i, sentence in enumerate(generated_sentences, 1):\n",
    "    print(f\"{i}. {' '.join(sentence)}\")\n",
    "\n",
    "elapsed = timeit.default_timer() - start_time\n",
    "print(elapsed)\n"
   ]
  },
  {
   "cell_type": "markdown",
   "metadata": {},
   "source": [
    "Implement the corresponding function and evaluate the perplexity of your model on the first 20 lines in the test data for values of `n` from 1 to 3. Perplexity should be individually calculated for each line."
   ]
  },
  {
   "cell_type": "code",
   "execution_count": 6,
   "metadata": {},
   "outputs": [
    {
     "name": "stdout",
     "output_type": "stream",
     "text": [
      "********\n",
      "Ngram model: 1\n",
      "Ngram: 1 Mean Perplexity: 36.5782\n",
      "********\n",
      "Ngram model: 2\n",
      "Ngram: 2 Mean Perplexity: 49.7073\n",
      "********\n",
      "Ngram model: 3\n",
      "Ngram: 3 Mean Perplexity: 10.0350\n"
     ]
    }
   ],
   "source": [
    "test_path = \"testing_files/berp-test.txt\"\n",
    "test_data = lm.read_file(test_path)\n",
    "\n",
    "for ngram in range(1, 4):\n",
    "    print(\"********\")\n",
    "    print(\"Ngram model:\", ngram)\n",
    "\n",
    "    # Tokenize test data\n",
    "    test_tokens = lm.tokenize(test_data, ngram, by_char=False)\n",
    "\n",
    "    # Instantiate and train the language model\n",
    "    ngram_model = lm.LanguageModel(ngram)\n",
    "    ngram_model.train(lm.tokenize(test_tokens, ngram, by_char=False))\n",
    "\n",
    "    # Evaluate perplexity for each line in the test data\n",
    "    perplexities = []\n",
    "    for line_tokens in test_tokens[:20]:\n",
    "        perplexity = ngram_model.perplexity(line_tokens)\n",
    "        perplexities.append(perplexity)\n",
    "\n",
    "    # Calculate and print mean perplexity\n",
    "    mean_perplexity = sum(perplexities) / len(perplexities)\n",
    "    print(f\"Ngram: {ngram} Mean Perplexity: {mean_perplexity:.4f}\")\n",
    "\n"
   ]
  },
  {
   "cell_type": "markdown",
   "metadata": {},
   "source": [
    "1. What are the common attributes of the test sentences that cause very high perplexity? long sentences, unusual sentence structure, rare words"
   ]
  },
  {
   "cell_type": "markdown",
   "metadata": {},
   "source": [
    "5 points in this assignment are reserved for overall style (both for writing and for code submitted). All work submitted should be clear, easily interpretable, and checked for spelling, etc. (Re-read what you write and make sure it makes sense). Course staff are always happy to give grammatical help (but we won't pre-grade the content of your answers)."
   ]
  },
  {
   "cell_type": "markdown",
   "metadata": {},
   "source": []
  }
 ],
 "metadata": {
  "kernelspec": {
   "display_name": "Python 3 (ipykernel)",
   "language": "python",
   "name": "python3"
  },
  "language_info": {
   "codemirror_mode": {
    "name": "ipython",
    "version": 3
   },
   "file_extension": ".py",
   "mimetype": "text/x-python",
   "name": "python",
   "nbconvert_exporter": "python",
   "pygments_lexer": "ipython3",
   "version": "3.11.5"
  }
 },
 "nbformat": 4,
 "nbformat_minor": 4
}
